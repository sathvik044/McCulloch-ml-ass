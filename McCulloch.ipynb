{
  "nbformat": 4,
  "nbformat_minor": 0,
  "metadata": {
    "colab": {
      "provenance": [],
      "authorship_tag": "ABX9TyPqbHYGUxGDBjFfeD7THb28",
      "include_colab_link": true
    },
    "kernelspec": {
      "name": "python3",
      "display_name": "Python 3"
    },
    "language_info": {
      "name": "python"
    }
  },
  "cells": [
    {
      "cell_type": "markdown",
      "metadata": {
        "id": "view-in-github",
        "colab_type": "text"
      },
      "source": [
        "<a href=\"https://colab.research.google.com/github/sathvik044/McCulloch-ml-ass/blob/main/McCulloch.ipynb\" target=\"_parent\"><img src=\"https://colab.research.google.com/assets/colab-badge.svg\" alt=\"Open In Colab\"/></a>"
      ]
    },
    {
      "cell_type": "code",
      "execution_count": 1,
      "metadata": {
        "id": "tJtriFAyY4pB"
      },
      "outputs": [],
      "source": [
        "from tabulate import tabulate"
      ]
    },
    {
      "cell_type": "code",
      "source": [
        "x1 = [0, 0, 1, 1]\n",
        "x2 = [0, 1, 0, 1]\n",
        "w1 = [1, 1, 1, 1]\n",
        "w2 = [1, 1, 1, 1]\n",
        "t = 2\n",
        "#output\n",
        "print(\"x1    x2    w1   w2     t     O\")\n",
        "for i in range(len(x1)):\n",
        "    if ( x1[i]*w1[i] + x2[i]*w2[i] ) >= t:\n",
        "        print(x1[i],'   ',x2[i],'   ',w1[i],'   ',w2[i],'   ',t,'   ', 1)\n",
        "    else:\n",
        "        print(x1[i],'   ',x2[i],'   ',w1[i],'   ',w2[i],'   ',t,'   ', 0)"
      ],
      "metadata": {
        "colab": {
          "base_uri": "https://localhost:8080/"
        },
        "id": "swiFQcPJZDRn",
        "outputId": "eeea4a32-0bf7-410e-fe5e-7996ca58a5c0"
      },
      "execution_count": 2,
      "outputs": [
        {
          "output_type": "stream",
          "name": "stdout",
          "text": [
            "x1    x2    w1   w2     t     O\n",
            "0     0     1     1     2     0\n",
            "0     1     1     1     2     0\n",
            "1     0     1     1     2     0\n",
            "1     1     1     1     2     1\n"
          ]
        }
      ]
    },
    {
      "cell_type": "code",
      "source": [
        "x1 = [0, 0, 1, 1]\n",
        "x2 = [0, 1, 0, 1]\n",
        "w1 = [1, 1, 1, 1]\n",
        "w2 = [1, 1, 1, 1]\n",
        "t = 1\n",
        "#output\n",
        "print(\"x1    x2    w1   w2     t     O\")\n",
        "for i in range(len(x1)):\n",
        "    if ( x1[i]*w1[i] + x2[i]*w2[i] ) >= t:\n",
        "        print(x1[i],'   ',x2[i],'   ',w1[i],'   ',w2[i],'   ',t,'   ', 1)\n",
        "    else:\n",
        "        print(x1[i],'   ',x2[i],'   ',w1[i],'   ',w2[i],'   ',t,'   ', 0)"
      ],
      "metadata": {
        "colab": {
          "base_uri": "https://localhost:8080/"
        },
        "id": "vHODxyKGZLZX",
        "outputId": "3a835c14-0553-452c-c8b7-f2eafae012f0"
      },
      "execution_count": 3,
      "outputs": [
        {
          "output_type": "stream",
          "name": "stdout",
          "text": [
            "x1    x2    w1   w2     t     O\n",
            "0     0     1     1     1     0\n",
            "0     1     1     1     1     1\n",
            "1     0     1     1     1     1\n",
            "1     1     1     1     1     1\n"
          ]
        }
      ]
    },
    {
      "cell_type": "code",
      "source": [
        "x = [0, 1]\n",
        "w = [-1, -1]\n",
        "t = 0\n",
        "#output\n",
        "print(\"x      w     t     O\")\n",
        "for i in range(len(x)):\n",
        "    if ( x[i]*w[i]) >= t:\n",
        "        print(x[i],'   ',w[i],'   ',t,'   ', 1)\n",
        "    else:\n",
        "        print(x[i],'   ',w[i],'   ',t,'   ', 0)"
      ],
      "metadata": {
        "colab": {
          "base_uri": "https://localhost:8080/"
        },
        "id": "-WXPWu9oZOxk",
        "outputId": "b98cdfbb-5a5f-416c-c264-a12cdf489e2c"
      },
      "execution_count": 4,
      "outputs": [
        {
          "output_type": "stream",
          "name": "stdout",
          "text": [
            "x      w     t     O\n",
            "0     -1     0     1\n",
            "1     -1     0     0\n"
          ]
        }
      ]
    },
    {
      "cell_type": "code",
      "source": [
        "x1 = [0, 0, 1, 1]\n",
        "x2 = [0, 1, 0, 1]\n",
        "w1 = [-1, -1, -1, -1]\n",
        "w2 = [-1, -1, -1, -1]\n",
        "t = -2\n",
        "#output\n",
        "print(\"x1    x2    w1     w2      t     O\")\n",
        "for i in range(len(x1)):\n",
        "    if ( x1[i]*w1[i] + x2[i]*w2[i] ) > t:\n",
        "        print(x1[i],'   ',x2[i],'   ',w1[i],'   ',w2[i],'   ',t,'   ', 1)\n",
        "    else:\n",
        "        print(x1[i],'   ',x2[i],'   ',w1[i],'   ',w2[i],'   ',t,'   ', 0)"
      ],
      "metadata": {
        "colab": {
          "base_uri": "https://localhost:8080/"
        },
        "id": "jzQW0-3ZZS-H",
        "outputId": "241db9b2-1c6a-4add-8876-aefa329b5f26"
      },
      "execution_count": 5,
      "outputs": [
        {
          "output_type": "stream",
          "name": "stdout",
          "text": [
            "x1    x2    w1     w2      t     O\n",
            "0     0     -1     -1     -2     1\n",
            "0     1     -1     -1     -2     1\n",
            "1     0     -1     -1     -2     1\n",
            "1     1     -1     -1     -2     0\n"
          ]
        }
      ]
    },
    {
      "cell_type": "code",
      "source": [
        "x1 = [0, 0, 1, 1]\n",
        "x2 = [0, 1, 0, 1]\n",
        "w1 = [1, 1, 1, 1]\n",
        "w2 = [1, 1, 1, 1]\n",
        "t = 0\n",
        "#output\n",
        "print(\"x1    x2    w1   w2     t     O\")\n",
        "for i in range(len(x1)):\n",
        "    if ( x1[i]*w1[i] + x2[i]*w2[i] ) <= t:\n",
        "        print(x1[i],'   ',x2[i],'   ',w1[i],'   ',w2[i],'   ',t,'   ', 1)\n",
        "    else:\n",
        "        print(x1[i],'   ',x2[i],'   ',w1[i],'   ',w2[i],'   ',t,'   ', 0)"
      ],
      "metadata": {
        "colab": {
          "base_uri": "https://localhost:8080/"
        },
        "id": "4ELc2bbWZnSH",
        "outputId": "8e9d8acc-c5fb-4a7b-cee7-9867b7b1dff8"
      },
      "execution_count": 6,
      "outputs": [
        {
          "output_type": "stream",
          "name": "stdout",
          "text": [
            "x1    x2    w1   w2     t     O\n",
            "0     0     1     1     0     1\n",
            "0     1     1     1     0     0\n",
            "1     0     1     1     0     0\n",
            "1     1     1     1     0     0\n"
          ]
        }
      ]
    },
    {
      "cell_type": "code",
      "source": [
        "\n",
        "x1 = [0, 0, 1, 1]\n",
        "x2 = [0, 1, 0, 1]\n",
        "w1 = [1, 1, 1, 1]\n",
        "w2 = [1, 1, 1, 1]\n",
        "w3 = [1, 1, 1, 1]\n",
        "w4 = [-1, -1, -1, -1]\n",
        "w5 = [-1, -1, -1, -1]\n",
        "w6 = [1, 1, 1, 1]\n",
        "t1 = [0.5,0.5,0.5,0.5]\n",
        "t2 = [-1.5,-1.5,-1.5,-1.5]\n",
        "t3 = [1.5,1.5,1.5,1.5]\n",
        "def XOR (a, b):\n",
        "    if a != b:\n",
        "        return 1\n",
        "    else:\n",
        "        return 0\n",
        "#output\n",
        "print('x1    x2    w1    w2    w3     w4    w5     w6    t1        t2      t3     O')\n",
        "for i in range(len(x1)):\n",
        "    print(x1[i],'   ',x2[i],'   ',w1[i],'   ',w2[i],'   ',w3[i],'   ',w4[i],'   ',w5[i],'   ',w6[i],'   ',t1[i],'   ',t2[i],'   ',t3[i],'   ',XOR(x1[i],x2[i]))"
      ],
      "metadata": {
        "colab": {
          "base_uri": "https://localhost:8080/"
        },
        "id": "XKPRXd-qZsl6",
        "outputId": "9b65a284-756c-4e3c-bb0e-9a3d604ce6da"
      },
      "execution_count": 7,
      "outputs": [
        {
          "output_type": "stream",
          "name": "stdout",
          "text": [
            "x1    x2    w1    w2    w3     w4    w5     w6    t1        t2      t3     O\n",
            "0     0     1     1     1     -1     -1     1     0.5     -1.5     1.5     0\n",
            "0     1     1     1     1     -1     -1     1     0.5     -1.5     1.5     1\n",
            "1     0     1     1     1     -1     -1     1     0.5     -1.5     1.5     1\n",
            "1     1     1     1     1     -1     -1     1     0.5     -1.5     1.5     0\n"
          ]
        }
      ]
    }
  ]
}